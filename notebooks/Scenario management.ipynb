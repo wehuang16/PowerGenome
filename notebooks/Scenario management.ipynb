{
 "cells": [
  {
   "attachments": {},
   "cell_type": "markdown",
   "metadata": {},
   "source": [
    "# Settings/scenario management\n",
    "\n",
    "Capacity expansion modeling is often an exercise in exploring the difference between different technical, cost, or policy scenarios across a range of planning years, so PowerGenome has a built-in method for creating modified versions of a single baseline scenario. Within the settings file this shows up in how planning periods are defined and a nested dictionary that allows any \"normal\" parameter to be modified for different scenarios.\n",
    "\n",
    "## Scenario management files\n",
    "\n",
    "Scenario management is deeply build into the input file structure. So much so, in fact, that it might be difficult to create inputs for a single scenario without following the layout designed for multiple scenarios.\n",
    "\n",
    "### Scenario names\n",
    "\n",
    "Each scenario has a long name and a short identifier, defined in the `case_id_description_fn` file (`test_case_id_description.csv` in the example). These cases are assumed to be the same across planning periods. When using the command line interface, case folders are created using the format `<case_id>_<model_year>_<case_description>`, so they look something like `p1_2030_Tech_CES_with_RPS`. Case IDs are used in the `scenario_definitions_fn` file (it's `test_scenario_inputs.csv` or `test_scenario_inputs_short.csv` in the example), and the `emission_policies_fn` (`test_rps_ces_emission_limits.csv`).\n",
    "\n",
    "## Planning periods\n",
    "\n",
    "When running a single planning period, many functions expect the parameters `model_year` and `model_first_planning_year` to be integers (a single year). In a multi-planning period settings file, each of these parameters should be a list of integers and they should be the same length. They now represent a paired series of the first and last years in each of the planning periods to be investigated.\n",
    "\n",
    "```\n",
    "model_year: [2030, 2045]\n",
    "model_first_planning_year: [2020, 2031]\n",
    "```\n",
    "\n",
    "In this case, planning years of 2030 and 2045 will be investigated. Hourly demand is calculated for planning years. The first year in a planning period is needed because technology costs are calculated as the average of all costs over a planning period. So for the first planning period of 2020-2030, load/demand will be calculated for 2030 and the cost of building a new generator will be the average of all values from 2020-2030.\n",
    "\n",
    "## Settings management\n",
    "\n",
    "The parameter `settings_management` is a nested dictionary with alternative values for any parameters that will be modified as part of a sensitivity, or that might have different values across planning periods. The structure of this dictionary is:\n",
    "\n",
    "```\n",
    "settings_management:\n",
    "  <model year>:\n",
    "    <sensitivity column name>:\n",
    "      <sensitivity value name>:\n",
    "        <settings parameter name>:\n",
    "          <settings parameter value>\n",
    "```\n",
    "\n",
    "`<sensitivity column name>` is the name of a column in the `scenario_definitions_fn` parameter (it's `test_scenario_inputs.csv` in the example). The first columns of this file have a `case_id` and `year` that uniquely define each model run. Model runs might test the effect of different natural gas prices (`ng_price` in the example file), with values of `reference` and `low`. The corresponding section of the `settings_management` parameter for the planning year 2030 will look like:\n",
    "\n",
    "```\n",
    "settings_management:\n",
    "  2030:\n",
    "    ng_price:  # <sensitivity column name>\n",
    "      reference:  # <sensitivity value name>\n",
    "        aeo_fuel_scenarios:  # <settings parameter name>\n",
    "          naturalgas: reference  # <settings parameter value>\n",
    "      low:\n",
    "        aeo_fuel_scenarios:\n",
    "          naturalgas: high_resource\n",
    "```\n",
    "So in this case we're modifying the settings parameter `aeo_fuel_scenarios` by defining different AEO scenario names for the `naturalgas` fuel type. By default, this section of the settings file looks like:\n",
    "\n",
    "```\n",
    "eia_series_scenario_names:\n",
    "  reference: REF2020\n",
    "  low_price: LOWPRICE\n",
    "  high_price: HIGHPRICE\n",
    "  high_resource: HIGHOGS\n",
    "  low_resource: LOWOGS\n",
    "\n",
    "aeo_fuel_scenarios:\n",
    "  coal: reference\n",
    "  naturalgas: reference\n",
    "  distillate: reference\n",
    "  uranium: reference\n",
    "```\n",
    "\n",
    "So we're changing the AEO case from `reference` to `high_resource` (which correspond to `REF2020` and `HIGHOGS` in the EIA open data API).\n",
    "\n",
    "It's important to understand that parameter values are updated by searching for `key:value` pairs in a dictionary and updating them. This means that in the example above I was able to change the AEO scenario for just natural gas prices, and I didn't have to list the other fuel types. But if the `value` is a list and only one item should be changed, then the entire list must be included in `settings_management`. As an example, cost scenarios for new-build generators are usually defined like:\n",
    "\n",
    "```\n",
    "# Format for each list item is <technology>, <tech_detail>, <cost_case>, <size>\n",
    "atb_new_gen:\n",
    "  - [NaturalGas, CCCCSAvgCF, Mid, 500]\n",
    "  - [NaturalGas, CCAvgCF, Mid, 500]\n",
    "  - [NaturalGas, CTAvgCF, Mid, 100]\n",
    "  - [LandbasedWind, LTRG1, Mid, 1]\n",
    "  - [OffShoreWind, OTRG10, Mid, 1]\n",
    "  - [UtilityPV, LosAngeles, Mid, 1]\n",
    "  - [Battery, \"*\", Mid, 1]\n",
    "```\n",
    "\n",
    "If I want to have low cost renewables capex in a scenario, the corresponding section of `settings_management` should include all technologies, even if they don't change. This is because the ATB technologies are defined in a list of lists.\n",
    "\n",
    "```\n",
    "settings_management:\n",
    "  2030:\n",
    "    renewable_capex:\n",
    "      low:\n",
    "        atb_new_gen:\n",
    "          - [NaturalGas, CCCCSAvgCF, Mid, 500]\n",
    "          - [NaturalGas, CCAvgCF, Mid, 500]\n",
    "          - [NaturalGas, CTAvgCF, Mid, 100]\n",
    "          - [LandbasedWind, LTRG1, Low, 1]\n",
    "          - [OffShoreWind, OTRG10, Low, 1]\n",
    "          - [UtilityPV, LosAngeles, Low, 1]\n",
    "          - [Battery, \"*\", Low, 1]\n",
    "````"
   ]
  },
  {
   "cell_type": "code",
   "execution_count": 1,
   "metadata": {},
   "outputs": [],
   "source": [
    "%load_ext autoreload\n",
    "%autoreload 2"
   ]
  },
  {
   "cell_type": "code",
   "execution_count": 1,
   "metadata": {},
   "outputs": [],
   "source": [
    "from pathlib import Path\n",
    "\n",
    "import pandas as pd\n",
    "from powergenome.util import (\n",
    "    build_scenario_settings,\n",
    "    init_pudl_connection,\n",
    "    load_settings,\n",
    "    check_settings\n",
    ")"
   ]
  },
  {
   "attachments": {},
   "cell_type": "markdown",
   "metadata": {},
   "source": [
    "## Import settings\n",
    "\n",
    "Settings are imported by reading the YAML file and converting it to a Python dictionary. In the code below I'm loading the settings and creating a nested dictionary `scenario_settings` that has all of the modified parameters for each case.\n",
    "\n",
    "Settings can also be checked for some common errors using the `check_settings` function."
   ]
  },
  {
   "cell_type": "code",
   "execution_count": 12,
   "metadata": {},
   "outputs": [],
   "source": [
    "cwd = Path.cwd()\n",
    "\n",
    "settings_path = (\n",
    "    cwd.parent / \"example_systems\" / \"CONUS-3-zone\" / \"settings\"\n",
    ")\n",
    "settings = load_settings(settings_path)\n",
    "settings[\"input_folder\"] = settings_path.parent / settings[\"input_folder\"]\n",
    "scenario_definitions = pd.read_csv(\n",
    "    settings[\"input_folder\"] / settings[\"scenario_definitions_fn\"]\n",
    ")\n",
    "scenario_settings = build_scenario_settings(settings, scenario_definitions)\n",
    "\n",
    "pudl_engine, pudl_out, pg_engine = init_pudl_connection(\n",
    "    freq=\"AS\",\n",
    "    start_year=min(settings.get(\"eia_data_years\")),\n",
    "    end_year=max(settings.get(\"eia_data_years\")),\n",
    ")\n",
    "\n",
    "check_settings(settings, pg_engine)"
   ]
  },
  {
   "attachments": {},
   "cell_type": "markdown",
   "metadata": {},
   "source": [
    "We can check to see that the `p1` case (no emission constraints) does not point to an emissions policy file and that `p2` does."
   ]
  },
  {
   "cell_type": "code",
   "execution_count": 15,
   "metadata": {},
   "outputs": [],
   "source": [
    "scenario_settings[2050][\"p1\"][\"emission_policies_fn\"]"
   ]
  },
  {
   "cell_type": "code",
   "execution_count": 16,
   "metadata": {},
   "outputs": [
    {
     "data": {
      "text/plain": [
       "'emission_policies.csv'"
      ]
     },
     "execution_count": 16,
     "metadata": {},
     "output_type": "execute_result"
    }
   ],
   "source": [
    "scenario_settings[2050][\"p2\"][\"emission_policies_fn\"]"
   ]
  }
 ],
 "metadata": {
  "interpreter": {
   "hash": "5b6bea18085849e8db31c187c2b2d31536470856f66e9490d10280ec6298feaa"
  },
  "kernelspec": {
   "display_name": "Python 3.9.7 64-bit ('powergenome': conda)",
   "name": "python3"
  },
  "language_info": {
   "codemirror_mode": {
    "name": "ipython",
    "version": 3
   },
   "file_extension": ".py",
   "mimetype": "text/x-python",
   "name": "python",
   "nbconvert_exporter": "python",
   "pygments_lexer": "ipython3",
   "version": "3.10.11"
  }
 },
 "nbformat": 4,
 "nbformat_minor": 4
}
