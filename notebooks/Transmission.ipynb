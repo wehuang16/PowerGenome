{
 "cells": [
  {
   "attachments": {},
   "cell_type": "markdown",
   "metadata": {},
   "source": [
    "# Transmission lines\n",
    "\n",
    "PowerGenome compiles information on the transmission constraints between model regions and the centroid-to-centroid distance between model regions."
   ]
  },
  {
   "cell_type": "code",
   "execution_count": 1,
   "metadata": {},
   "outputs": [],
   "source": [
    "from pathlib import Path\n",
    "\n",
    "import pandas as pd\n",
    "from powergenome.generators import load_ipm_shapefile\n",
    "from powergenome.GenX import (\n",
    "    network_max_reinforcement,\n",
    "    add_cap_res_network\n",
    ")\n",
    "from powergenome.transmission import (\n",
    "    agg_transmission_constraints,\n",
    ")\n",
    "from powergenome.util import (\n",
    "    init_pudl_connection, \n",
    "    load_settings,\n",
    "    check_settings\n",
    ")\n",
    "from powergenome.external_data import insert_user_tx_costs, load_user_tx_costs"
   ]
  },
  {
   "attachments": {},
   "cell_type": "markdown",
   "metadata": {},
   "source": [
    "## Import settings"
   ]
  },
  {
   "cell_type": "code",
   "execution_count": 3,
   "metadata": {},
   "outputs": [],
   "source": [
    "pudl_engine, pudl_out, pg_engine = init_pudl_connection()\n",
    "cwd = Path.cwd()\n",
    "\n",
    "settings_path = (\n",
    "    cwd.parent / \"example_systems\" / \"CONUS-3-zone\" / \"settings\"\n",
    ")\n",
    "settings = load_settings(settings_path)\n",
    "settings[\"input_folder\"] = settings_path.parent / settings[\"input_folder\"]\n",
    "check_settings(settings, pg_engine)"
   ]
  },
  {
   "attachments": {},
   "cell_type": "markdown",
   "metadata": {},
   "source": [
    "## Aggregate transmission constraints\n",
    "EPA provides bulk transmission constraints between IPM regions. PowerGenome combines these constraints across aggregated model regions. The required settings parameters are:\n",
    "- `model_regions`\n",
    "- `region_aggregations`"
   ]
  },
  {
   "cell_type": "code",
   "execution_count": 4,
   "metadata": {},
   "outputs": [
    {
     "data": {
      "text/plain": [
       "['Eastern', 'Western', 'ERCOT']"
      ]
     },
     "execution_count": 4,
     "metadata": {},
     "output_type": "execute_result"
    }
   ],
   "source": [
    "settings[\"model_regions\"]"
   ]
  },
  {
   "cell_type": "code",
   "execution_count": 5,
   "metadata": {},
   "outputs": [
    {
     "data": {
      "text/plain": [
       "{'Eastern': ['SPP_N',\n",
       "  'SPP_NEBR',\n",
       "  'SPP_SPS',\n",
       "  'SPP_WAUE',\n",
       "  'SPP_WEST',\n",
       "  'FRCC',\n",
       "  'S_SOU',\n",
       "  'S_VACA',\n",
       "  'MIS_AMSO',\n",
       "  'MIS_AR',\n",
       "  'MIS_D_MS',\n",
       "  'MIS_IA',\n",
       "  'MIS_IL',\n",
       "  'MIS_INKY',\n",
       "  'MIS_LA',\n",
       "  'MIS_LMI',\n",
       "  'MIS_MAPP',\n",
       "  'MIS_MIDA',\n",
       "  'MIS_MNWI',\n",
       "  'MIS_MO',\n",
       "  'MIS_WOTA',\n",
       "  'MIS_WUMS',\n",
       "  'S_C_KY',\n",
       "  'S_C_TVA',\n",
       "  'S_D_AECI',\n",
       "  'PJM_AP',\n",
       "  'PJM_ATSI',\n",
       "  'PJM_COMD',\n",
       "  'PJM_Dom',\n",
       "  'PJM_EMAC',\n",
       "  'PJM_PENE',\n",
       "  'PJM_SMAC',\n",
       "  'PJM_West',\n",
       "  'PJM_WMAC',\n",
       "  'NENG_CT',\n",
       "  'NENG_ME',\n",
       "  'NENGREST',\n",
       "  'NY_Z_A',\n",
       "  'NY_Z_B',\n",
       "  'NY_Z_C&E',\n",
       "  'NY_Z_D',\n",
       "  'NY_Z_F',\n",
       "  'NY_Z_G-I',\n",
       "  'NY_Z_J',\n",
       "  'NY_Z_K'],\n",
       " 'ERCOT': ['ERC_PHDL', 'ERC_REST', 'ERC_WEST'],\n",
       " 'Western': ['WEC_BANC',\n",
       "  'WEC_CALN',\n",
       "  'WEC_LADW',\n",
       "  'WEC_SDGE',\n",
       "  'WECC_AZ',\n",
       "  'WECC_CO',\n",
       "  'WECC_ID',\n",
       "  'WECC_IID',\n",
       "  'WECC_MT',\n",
       "  'WECC_NM',\n",
       "  'WECC_NNV',\n",
       "  'WECC_PNW',\n",
       "  'WECC_SCE',\n",
       "  'WECC_SNV',\n",
       "  'WECC_UT',\n",
       "  'WECC_WY']}"
      ]
     },
     "execution_count": 5,
     "metadata": {},
     "output_type": "execute_result"
    }
   ],
   "source": [
    "settings[\"region_aggregations\"]"
   ]
  },
  {
   "cell_type": "code",
   "execution_count": 6,
   "metadata": {},
   "outputs": [
    {
     "name": "stderr",
     "output_type": "stream",
     "text": [
      "No transmission value column (e.g. firm vs non-firm) was specified in the settings. The column 'firm_ttc_mw' will be used as a default. This is a change from previous versions of PG, where 'nonfirm_ttc_mw' was used. Firm transmission capacity is lower or equal to non-firm capacity.\n",
      "The user transmission capacity table duplicates values from the database. Database values will be discarded in favor of user values.\n"
     ]
    }
   ],
   "source": [
    "transmission = agg_transmission_constraints(pg_engine=pg_engine, settings=settings)"
   ]
  },
  {
   "cell_type": "code",
   "execution_count": 7,
   "metadata": {},
   "outputs": [
    {
     "data": {
      "text/html": [
       "<div>\n",
       "<style scoped>\n",
       "    .dataframe tbody tr th:only-of-type {\n",
       "        vertical-align: middle;\n",
       "    }\n",
       "\n",
       "    .dataframe tbody tr th {\n",
       "        vertical-align: top;\n",
       "    }\n",
       "\n",
       "    .dataframe thead th {\n",
       "        text-align: right;\n",
       "    }\n",
       "</style>\n",
       "<table border=\"1\" class=\"dataframe\">\n",
       "  <thead>\n",
       "    <tr style=\"text-align: right;\">\n",
       "      <th></th>\n",
       "      <th>Network_Lines</th>\n",
       "      <th>z1</th>\n",
       "      <th>z2</th>\n",
       "      <th>z3</th>\n",
       "      <th>Line_Max_Flow_MW</th>\n",
       "      <th>Line_Min_Flow_MW</th>\n",
       "      <th>transmission_path_name</th>\n",
       "    </tr>\n",
       "  </thead>\n",
       "  <tbody>\n",
       "    <tr>\n",
       "      <th>0</th>\n",
       "      <td>1</td>\n",
       "      <td>1</td>\n",
       "      <td>-1</td>\n",
       "      <td>0</td>\n",
       "      <td>1830.0</td>\n",
       "      <td>-1830.0</td>\n",
       "      <td>Eastern_to_Western</td>\n",
       "    </tr>\n",
       "    <tr>\n",
       "      <th>1</th>\n",
       "      <td>2</td>\n",
       "      <td>1</td>\n",
       "      <td>0</td>\n",
       "      <td>-1</td>\n",
       "      <td>820.0</td>\n",
       "      <td>-820.0</td>\n",
       "      <td>Eastern_to_ERCOT</td>\n",
       "    </tr>\n",
       "  </tbody>\n",
       "</table>\n",
       "</div>"
      ],
      "text/plain": [
       "   Network_Lines  z1  z2  z3  Line_Max_Flow_MW  Line_Min_Flow_MW transmission_path_name\n",
       "0              1   1  -1   0            1830.0           -1830.0     Eastern_to_Western\n",
       "1              2   1   0  -1             820.0            -820.0       Eastern_to_ERCOT"
      ]
     },
     "execution_count": 7,
     "metadata": {},
     "output_type": "execute_result"
    }
   ],
   "source": [
    "transmission"
   ]
  },
  {
   "attachments": {},
   "cell_type": "markdown",
   "metadata": {},
   "source": [
    "## Line loss, reinforcement costs, max reinforcement\n",
    "\n",
    "PowerGenome can calculate approximate transmission costs and line loss using the straight line centroid-to-centroid distance between regions but we recommend using pre-calculated values instead. These pre-calculated values use transmission line segments created with a least cost path method described in Appendix F of the paper [Land use trade-offs in decarbonization of electricity generation in the American West](https://www.sciencedirect.com/science/article/abs/pii/S2666278723000144) -- the method is also described in a [preprint version](https://arxiv.org/pdf/2211.05062.pdf).\n",
    "\n",
    "The maximum reinforcement of transmission lines in a planning period is set with the parameters\n",
    "- `tx_expansion_per_period`: The multiple of existing transmission capacity that can be built. A value of 1 would allow an existing line of 500MW to build another 500MW.\n",
    "- `tx_expansion_mw_per_period`: The actual capacity that can be built per line. This parameter is useful to set a minimum amount of new transmission (e.g. a single 230kv line) when there is no existing transmission between two regions.\n",
    "\n",
    "The larger value of the two parameters is used for each line."
   ]
  },
  {
   "cell_type": "code",
   "execution_count": 8,
   "metadata": {},
   "outputs": [
    {
     "data": {
      "text/plain": [
       "10.0"
      ]
     },
     "execution_count": 8,
     "metadata": {},
     "output_type": "execute_result"
    }
   ],
   "source": [
    "settings[\"tx_expansion_per_period\"]"
   ]
  },
  {
   "cell_type": "code",
   "execution_count": 9,
   "metadata": {},
   "outputs": [
    {
     "data": {
      "text/plain": [
       "10000"
      ]
     },
     "execution_count": 9,
     "metadata": {},
     "output_type": "execute_result"
    }
   ],
   "source": [
    "settings[\"tx_expansion_mw_per_period\"]"
   ]
  },
  {
   "cell_type": "code",
   "execution_count": 10,
   "metadata": {},
   "outputs": [
    {
     "data": {
      "text/html": [
       "<div>\n",
       "<style scoped>\n",
       "    .dataframe tbody tr th:only-of-type {\n",
       "        vertical-align: middle;\n",
       "    }\n",
       "\n",
       "    .dataframe tbody tr th {\n",
       "        vertical-align: top;\n",
       "    }\n",
       "\n",
       "    .dataframe thead th {\n",
       "        text-align: right;\n",
       "    }\n",
       "</style>\n",
       "<table border=\"1\" class=\"dataframe\">\n",
       "  <thead>\n",
       "    <tr style=\"text-align: right;\">\n",
       "      <th></th>\n",
       "      <th>start_region</th>\n",
       "      <th>dest_region</th>\n",
       "      <th>interconnect_cost_mw</th>\n",
       "      <th>interconnect_annuity_mw</th>\n",
       "      <th>line_loss_frac</th>\n",
       "      <th>start_id</th>\n",
       "      <th>dest_id</th>\n",
       "      <th>dollar_year</th>\n",
       "      <th>mw-km_per_mw</th>\n",
       "      <th>start_intraregion_cost_mw</th>\n",
       "      <th>dest_intraregion_cost_mw</th>\n",
       "      <th>start_intraregion_loss_frac</th>\n",
       "      <th>dest_intraregion_loss_frac</th>\n",
       "      <th>start_mw-km_per_mw</th>\n",
       "      <th>dest_mw-km_per_mw</th>\n",
       "      <th>total_interconnect_cost_mw</th>\n",
       "      <th>total_line_loss_frac</th>\n",
       "      <th>total_mw-km_per_mw</th>\n",
       "      <th>total_interconnect_annuity_mw</th>\n",
       "      <th>zone_1</th>\n",
       "      <th>zone_2</th>\n",
       "      <th>adjusted_dollar_year</th>\n",
       "    </tr>\n",
       "  </thead>\n",
       "  <tbody>\n",
       "    <tr>\n",
       "      <th>0</th>\n",
       "      <td>Eastern</td>\n",
       "      <td>Western</td>\n",
       "      <td>630794.6187</td>\n",
       "      <td>30555.07645</td>\n",
       "      <td>0.045481</td>\n",
       "      <td>149221</td>\n",
       "      <td>202112</td>\n",
       "      <td>2018</td>\n",
       "      <td>797.906511</td>\n",
       "      <td>314827.3317</td>\n",
       "      <td>488518.1596</td>\n",
       "      <td>0.022696</td>\n",
       "      <td>0.031962</td>\n",
       "      <td>175.838766</td>\n",
       "      <td>310.273119</td>\n",
       "      <td>1671432.0</td>\n",
       "      <td>0.100139</td>\n",
       "      <td>1284.018397</td>\n",
       "      <td>80963.0</td>\n",
       "      <td>z1</td>\n",
       "      <td>z2</td>\n",
       "      <td>2022</td>\n",
       "    </tr>\n",
       "    <tr>\n",
       "      <th>1</th>\n",
       "      <td>Eastern</td>\n",
       "      <td>ERCOT</td>\n",
       "      <td>333984.6216</td>\n",
       "      <td>16177.88951</td>\n",
       "      <td>0.020748</td>\n",
       "      <td>149640</td>\n",
       "      <td>303537</td>\n",
       "      <td>2018</td>\n",
       "      <td>278.501046</td>\n",
       "      <td>314827.3317</td>\n",
       "      <td>271718.0809</td>\n",
       "      <td>0.022696</td>\n",
       "      <td>0.021446</td>\n",
       "      <td>175.838766</td>\n",
       "      <td>222.803249</td>\n",
       "      <td>1072840.0</td>\n",
       "      <td>0.064891</td>\n",
       "      <td>677.143062</td>\n",
       "      <td>51967.0</td>\n",
       "      <td>z1</td>\n",
       "      <td>z3</td>\n",
       "      <td>2022</td>\n",
       "    </tr>\n",
       "    <tr>\n",
       "      <th>2</th>\n",
       "      <td>Western</td>\n",
       "      <td>ERCOT</td>\n",
       "      <td>749213.1611</td>\n",
       "      <td>36291.15521</td>\n",
       "      <td>0.059687</td>\n",
       "      <td>300883</td>\n",
       "      <td>202112</td>\n",
       "      <td>2018</td>\n",
       "      <td>1047.143361</td>\n",
       "      <td>488518.1596</td>\n",
       "      <td>271718.0809</td>\n",
       "      <td>0.031962</td>\n",
       "      <td>0.021446</td>\n",
       "      <td>310.273119</td>\n",
       "      <td>222.803249</td>\n",
       "      <td>1759202.0</td>\n",
       "      <td>0.113096</td>\n",
       "      <td>1580.219730</td>\n",
       "      <td>85214.0</td>\n",
       "      <td>z2</td>\n",
       "      <td>z3</td>\n",
       "      <td>2022</td>\n",
       "    </tr>\n",
       "  </tbody>\n",
       "</table>\n",
       "</div>"
      ],
      "text/plain": [
       "  start_region dest_region  interconnect_cost_mw  interconnect_annuity_mw  line_loss_frac  start_id  dest_id  dollar_year  mw-km_per_mw  start_intraregion_cost_mw  dest_intraregion_cost_mw  start_intraregion_loss_frac  dest_intraregion_loss_frac  start_mw-km_per_mw  dest_mw-km_per_mw  total_interconnect_cost_mw  total_line_loss_frac  total_mw-km_per_mw  total_interconnect_annuity_mw zone_1 zone_2  adjusted_dollar_year\n",
       "0      Eastern     Western           630794.6187              30555.07645        0.045481    149221   202112         2018    797.906511                314827.3317               488518.1596                     0.022696                    0.031962          175.838766         310.273119                   1671432.0              0.100139         1284.018397                        80963.0     z1     z2                  2022\n",
       "1      Eastern       ERCOT           333984.6216              16177.88951        0.020748    149640   303537         2018    278.501046                314827.3317               271718.0809                     0.022696                    0.021446          175.838766         222.803249                   1072840.0              0.064891          677.143062                        51967.0     z1     z3                  2022\n",
       "2      Western       ERCOT           749213.1611              36291.15521        0.059687    300883   202112         2018   1047.143361                488518.1596               271718.0809                     0.031962                    0.021446          310.273119         222.803249                   1759202.0              0.113096         1580.219730                        85214.0     z2     z3                  2022"
      ]
     },
     "execution_count": 10,
     "metadata": {},
     "output_type": "execute_result"
    }
   ],
   "source": [
    "user_tx_costs = load_user_tx_costs(\n",
    "    settings[\"input_folder\"]\n",
    "                        / settings[\"user_transmission_costs\"],\n",
    "                        settings[\"model_regions\"],\n",
    "                        settings.get(\"target_usd_year\"),\n",
    ")\n",
    "user_tx_costs"
   ]
  },
  {
   "cell_type": "code",
   "execution_count": 11,
   "metadata": {},
   "outputs": [
    {
     "data": {
      "text/html": [
       "<div>\n",
       "<style scoped>\n",
       "    .dataframe tbody tr th:only-of-type {\n",
       "        vertical-align: middle;\n",
       "    }\n",
       "\n",
       "    .dataframe tbody tr th {\n",
       "        vertical-align: top;\n",
       "    }\n",
       "\n",
       "    .dataframe thead th {\n",
       "        text-align: right;\n",
       "    }\n",
       "</style>\n",
       "<table border=\"1\" class=\"dataframe\">\n",
       "  <thead>\n",
       "    <tr style=\"text-align: right;\">\n",
       "      <th></th>\n",
       "      <th>Network_Lines</th>\n",
       "      <th>z1</th>\n",
       "      <th>z2</th>\n",
       "      <th>z3</th>\n",
       "      <th>Line_Max_Flow_MW</th>\n",
       "      <th>Line_Min_Flow_MW</th>\n",
       "      <th>transmission_path_name</th>\n",
       "      <th>Line_Reinforcement_Cost_per_MWyr</th>\n",
       "      <th>Line_Reinforcement_Cost_per_MW</th>\n",
       "      <th>Line_Loss_Percentage</th>\n",
       "    </tr>\n",
       "  </thead>\n",
       "  <tbody>\n",
       "    <tr>\n",
       "      <th>0</th>\n",
       "      <td>1</td>\n",
       "      <td>1</td>\n",
       "      <td>-1</td>\n",
       "      <td>0</td>\n",
       "      <td>1830.0</td>\n",
       "      <td>1830.0</td>\n",
       "      <td>Eastern_to_Western</td>\n",
       "      <td>80963.0</td>\n",
       "      <td>1671432.0</td>\n",
       "      <td>0.100139</td>\n",
       "    </tr>\n",
       "    <tr>\n",
       "      <th>1</th>\n",
       "      <td>2</td>\n",
       "      <td>1</td>\n",
       "      <td>0</td>\n",
       "      <td>-1</td>\n",
       "      <td>820.0</td>\n",
       "      <td>820.0</td>\n",
       "      <td>Eastern_to_ERCOT</td>\n",
       "      <td>51967.0</td>\n",
       "      <td>1072840.0</td>\n",
       "      <td>0.064891</td>\n",
       "    </tr>\n",
       "    <tr>\n",
       "      <th>2</th>\n",
       "      <td>3</td>\n",
       "      <td>0</td>\n",
       "      <td>1</td>\n",
       "      <td>-1</td>\n",
       "      <td>0.0</td>\n",
       "      <td>0.0</td>\n",
       "      <td>Western_to_ERCOT</td>\n",
       "      <td>85214.0</td>\n",
       "      <td>1759202.0</td>\n",
       "      <td>0.113096</td>\n",
       "    </tr>\n",
       "  </tbody>\n",
       "</table>\n",
       "</div>"
      ],
      "text/plain": [
       "   Network_Lines  z1  z2  z3  Line_Max_Flow_MW  Line_Min_Flow_MW transmission_path_name  Line_Reinforcement_Cost_per_MWyr  Line_Reinforcement_Cost_per_MW  Line_Loss_Percentage\n",
       "0              1   1  -1   0            1830.0            1830.0     Eastern_to_Western                           80963.0                       1671432.0              0.100139\n",
       "1              2   1   0  -1             820.0             820.0       Eastern_to_ERCOT                           51967.0                       1072840.0              0.064891\n",
       "2              3   0   1  -1               0.0               0.0       Western_to_ERCOT                           85214.0                       1759202.0              0.113096"
      ]
     },
     "execution_count": 11,
     "metadata": {},
     "output_type": "execute_result"
    }
   ],
   "source": [
    "transmission = insert_user_tx_costs(tx_df=transmission, user_costs=user_tx_costs)\n",
    "transmission"
   ]
  },
  {
   "cell_type": "code",
   "execution_count": null,
   "metadata": {},
   "outputs": [],
   "source": []
  }
 ],
 "metadata": {
  "interpreter": {
   "hash": "5b6bea18085849e8db31c187c2b2d31536470856f66e9490d10280ec6298feaa"
  },
  "kernelspec": {
   "display_name": "Python 3.9.7 64-bit ('powergenome': conda)",
   "name": "python3"
  },
  "language_info": {
   "codemirror_mode": {
    "name": "ipython",
    "version": 3
   },
   "file_extension": ".py",
   "mimetype": "text/x-python",
   "name": "python",
   "nbconvert_exporter": "python",
   "pygments_lexer": "ipython3",
   "version": "3.10.11"
  }
 },
 "nbformat": 4,
 "nbformat_minor": 4
}
